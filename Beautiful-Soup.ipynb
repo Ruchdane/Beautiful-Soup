{
 "cells": [
  {
   "cell_type": "markdown",
   "id": "exciting-conviction",
   "metadata": {},
   "source": [
    "****\n",
    "\n",
    "\n",
    "# <center> <b> <span style=\"color:orange;\"> [Beautiful Soup](https://www.crummy.com/software/BeautifulSoup/bs4/doc/) </span> </b></center>\n",
    "\n",
    "### <center> <b> <span style=\"color:green;\">Bibliothèque Python d'analyse syntaxique de documents HTML et XML</span> </b></center>\n",
    "\n",
    "> **Généralité:**\n",
    "Elle transforme votre document en un arbre qui peut être utilisé pour chercher des éléments ou les modifier\n",
    "****\n",
    "    \n",
    "##### Nous utiliserons la version 4\n",
    "###### Instalation\n",
    "```bash\n",
    "sudo apt-get install python3-bs4\n",
    "```\n",
    "\n",
    "## Creation\n",
    "Pour creer notre 'soup' on a besoin d'une chaine de caractère(notre html) et un parseur.<br/>\n",
    "   `Parseur` est un terme provenant de l'anglais \"parser\" désignant un programme informatique d'analyse syntaxique.<br/>\n",
    "   BeautifulSoup supporte divers parseur de python :\n",
    "<table class=\"docutils align-default\">\n",
    "    <colgroup>\n",
    "        <col style=\"width: 18%\">\n",
    "        <col style=\"width: 18%\">\n",
    "        <col style=\"width: 26%\">\n",
    "        <col style=\"width: 21%\">\n",
    "        <col style=\"width: 21%\">\n",
    "    </colgroup>\n",
    "    <tbody>\n",
    "    <tr class=\"row-odd\"><td><p>Parseur</p></td>\n",
    "        <td><p>Usage typique</p></td>\n",
    "        <td><p>Avantages</p></td>\n",
    "        <td><p>Inconvenients</p></td>\n",
    "        <td><p>Installation</p></td>\n",
    "    </tr>\n",
    "    <tr class=\"row-even\">\n",
    "        <td><p> html.parser</p></td>\n",
    "        <td><p><code class=\"docutils literal notranslate\">BeautifulSoup(markup,\"html.parser\")</code></p></td>\n",
    "        <td><ul class=\"simple\">\n",
    "            <li><p>Vitesse moyenne</p></li>\n",
    "            <li><p>Tolérant </p></li>\n",
    "        </ul></td>\n",
    "        <td><ul class=\"simple\">\n",
    "            <li><p>Plus lent que lxml</p></li>\n",
    "            <li><p>Moin tolérant que html5lib.</p></li>\n",
    "        </ul></td>\n",
    "        <td>\n",
    "            <p>Déja installer</p>\n",
    "        </td>\n",
    "    </tr>\n",
    "    <tr class=\"row-odd\">\n",
    "        <td><p>lxml HTML parseur</p></td>\n",
    "        <td><p><code class=\"docutils literal notranslate\">BeautifulSoup(markup,\"lxml\")</code></p></td>\n",
    "        <td><ul class=\"simple\">\n",
    "            <li><p>Rapide</p></li>\n",
    "            <li><p> Tolérant </p></li>\n",
    "        </ul></td>\n",
    "        <td><ul class=\"simple\">\n",
    "            <li><p>Dépendence externe au c</p></li>\n",
    "        </ul></td>\n",
    "    <td>\n",
    "        <p><code>pip install lxml</code></p>\n",
    "    </td>\n",
    "    </tr>\n",
    "    <tr class=\"row-even\"><td><p>lxml’s XML parser</p></td>\n",
    "        <td><p><code class=\"docutils literal notranslate\">BeautifulSoup(markup,\"lxml-xml\")</code>\n",
    "                <code class=\"docutils literal notranslate\">BeautifulSoup(markup,\"xml\")</code></p></td>\n",
    "        <td><ul class=\"simple\">\n",
    "            <li><p>Rapide</p></li>\n",
    "            <li><p>Le seul parser XML suporter</p></li>\n",
    "        </ul></td>\n",
    "        <td><ul class=\"simple\">\n",
    "            <li><p>Dépendence externe au C</p></li>\n",
    "        </ul></td>\n",
    "        <td>\n",
    "            <p><code>pip install lxml</code></p>\n",
    "        </td>\n",
    "        </tr>\n",
    "    <tr class=\"row-odd\"><td><p>html5lib</p></td>\n",
    "    <td><p><code class=\"docutils literal notranslate\">BeautifulSoup(markup,\"html5lib\")</code></p></td>\n",
    "    <td><ul class=\"simple\">\n",
    "        <li><p>Tres tolérent</p></li>\n",
    "        <li><p>Analyse une page de la meme maniere que le navigateur</p></li>\n",
    "    </ul></td>\n",
    "    <td><ul class=\"simple\">\n",
    "        <li><p>Tres lent</p></li>\n",
    "    </ul></td>\n",
    "    <td>\n",
    "            <p><code>pip install html5lib</code></p>\n",
    "        </td>\n",
    "    </tr>\n",
    "</tbody>\n",
    "</table>\n",
    "\n",
    "### Le parseur le plus adapter est le lxml\n",
    "\n",
    "<p>Si aucun parseur n'est indiqué il prend le meilleur disponible.</p>\n",
    "\n",
    "\n",
    "## Utilisation\n",
    "<p> Dans l'abre syntaxique generé on s'interessera aux</p>\n",
    "    - Tag(a,div,...)<br/>\n",
    "    - Les chaines de caractères<br/>\n",
    "    - Soup<br/>\n",
    "\n",
    "### Les tags"
   ]
  },
  {
   "cell_type": "code",
   "execution_count": 45,
   "id": "third-donor",
   "metadata": {},
   "outputs": [
    {
     "data": {
      "text/plain": [
       "<b class=\"boldest\">Extremely bold</b>"
      ]
     },
     "execution_count": 45,
     "metadata": {},
     "output_type": "execute_result"
    }
   ],
   "source": [
    "from bs4 import BeautifulSoup\n",
    "soup = BeautifulSoup('<b class=\"boldest\">Extremely bold</b>')\n",
    "tag = soup.b\n",
    "tag"
   ]
  },
  {
   "cell_type": "markdown",
   "id": "favorite-brazil",
   "metadata": {},
   "source": [
    "Un tag peut être traiter comme un dictionnaire ou les clef sont les attribut(class,href,src...)<br/>\n",
    " - le nom peut être modifier avec l'attribut name <code>tag.name = 'a'</code><br/>"
   ]
  },
  {
   "cell_type": "code",
   "execution_count": 5,
   "id": "threaded-duncan",
   "metadata": {},
   "outputs": [
    {
     "data": {
      "text/plain": [
       "<a class=\"boldest\">Extremely bold</a>"
      ]
     },
     "execution_count": 5,
     "metadata": {},
     "output_type": "execute_result"
    }
   ],
   "source": [
    "tag.name = 'a'\n",
    "tag"
   ]
  },
  {
   "cell_type": "markdown",
   "id": "smart-bubble",
   "metadata": {},
   "source": [
    " - La valeur d'un atribut peut également être modifier <code>tag['href'] = '\\ma\\nouvelle\\addresse'</code>(on peut acceder a la valeur avec la fonction <code>get(nom_de_l_attribut)</code>)\n",
    " - On peut creer un nouvel attribut <code>tag['mon_atribut'] = 'Jack-O'</code>\n",
    " - On peut suprimer un attribut <code>del tag['id']</code>"
   ]
  },
  {
   "cell_type": "code",
   "execution_count": 46,
   "id": "impressed-bahrain",
   "metadata": {
    "scrolled": true
   },
   "outputs": [
    {
     "name": "stdout",
     "output_type": "stream",
     "text": [
      "<b class=\"boldest\" href=\"mon/ancienne/adresse\">Extremely bold</b>\n",
      "<b class=\"boldest\" href=\"ma/nouvelle/adresse\">Extremely bold</b>\n",
      "<b class=\"boldest\">Extremely bold</b>\n"
     ]
    }
   ],
   "source": [
    "tag['href'] = 'mon/ancienne/adresse'\n",
    "print(tag)\n",
    "tag['href'] = 'ma/nouvelle/adresse'\n",
    "print(tag)\n",
    "del tag['href']\n",
    "print(tag)"
   ]
  },
  {
   "cell_type": "markdown",
   "id": "annoying-brown",
   "metadata": {},
   "source": [
    " - HTML définit des attributs qui ont plusieurs valeurs comme la classe d'un élement."
   ]
  },
  {
   "cell_type": "code",
   "execution_count": 17,
   "id": "willing-harbor",
   "metadata": {},
   "outputs": [
    {
     "name": "stdout",
     "output_type": "stream",
     "text": [
      "['main', 'center']\n",
      "['main']\n"
     ]
    }
   ],
   "source": [
    "tag = BeautifulSoup('<p class=\"main center\"></p>')\n",
    "print(tag.p.get('class'))\n",
    "tag = BeautifulSoup('<p class=\"main\"></p>')\n",
    "print(tag.p['class'])"
   ]
  },
  {
   "cell_type": "markdown",
   "id": "worst-syracuse",
   "metadata": {},
   "source": [
    "  ``Ce n'est pas que BeautifulSoup decoupe la valeur de l'attribut là où il y a espace``"
   ]
  },
  {
   "cell_type": "code",
   "execution_count": 47,
   "id": "inside-liechtenstein",
   "metadata": {},
   "outputs": [
    {
     "name": "stdout",
     "output_type": "stream",
     "text": [
      "1er chapitre\n"
     ]
    }
   ],
   "source": [
    "tag = BeautifulSoup('<p id=\"1er chapitre\"></p>')\n",
    "print(tag.p.get('id'))"
   ]
  },
  {
   "cell_type": "markdown",
   "id": "wired-hampton",
   "metadata": {},
   "source": [
    "### Les chaines de characteres"
   ]
  },
  {
   "cell_type": "code",
   "execution_count": 48,
   "id": "naughty-marking",
   "metadata": {},
   "outputs": [
    {
     "data": {
      "text/plain": [
       "'Très courageux'"
      ]
     },
     "execution_count": 48,
     "metadata": {},
     "output_type": "execute_result"
    }
   ],
   "source": [
    "soup = BeautifulSoup('<b class=\"Courageux\">Très courageux</b>')\n",
    "tag = soup.b\n",
    "tag.string"
   ]
  },
  {
   "cell_type": "markdown",
   "id": "reverse-chamber",
   "metadata": {},
   "source": [
    "Pour modifier la valeur du text contenu dans le tag <code>tag.string.replace_with(\"Peureux\")</code>"
   ]
  },
  {
   "cell_type": "code",
   "execution_count": 20,
   "id": "behind-penetration",
   "metadata": {},
   "outputs": [
    {
     "data": {
      "text/plain": [
       "'Peureux'"
      ]
     },
     "execution_count": 20,
     "metadata": {},
     "output_type": "execute_result"
    }
   ],
   "source": [
    "tag.string.replace_with(\"Peureux\")\n",
    "tag.string"
   ]
  },
  {
   "cell_type": "markdown",
   "id": "alive-failing",
   "metadata": {},
   "source": [
    "## La Soup\n",
    "C'est l'arbre que génère beautiful soup. Elle supporte toutes les opérations que suportent les tags."
   ]
  },
  {
   "cell_type": "markdown",
   "id": "future-volume",
   "metadata": {},
   "source": [
    "# Navigation"
   ]
  },
  {
   "cell_type": "code",
   "execution_count": 13,
   "id": "korean-transport",
   "metadata": {},
   "outputs": [],
   "source": [
    "html_doc = \"\"\"\n",
    "<html><head><title>Les Trois soeur </title></head>\n",
    "<body>\n",
    "<p class=\"title\"><b>Premier paragraphe</b></p>\n",
    "<main>\n",
    "    <p class=\"title\"><b>The Dormouse's story</b></p>\n",
    "</main>\n",
    "<p class=\"story\">Il étais une fois trois soeur il se nommait \n",
    "<a href=\"http://example.com/elsie\" class=\"sister\" id=\"link1\">Elsie</a>,\n",
    "<a href=\"http://example.com/lacie\" class=\"sister\" id=\"link2\">Lacie</a> et\n",
    "<a href=\"http://example.com/tillie\" class=\"last\" id=\"link3\">Tillie</a>\n",
    "Elles vivaient au fond d'un puis.</p>\n",
    "\n",
    "<p class=\"story\">...</p>\n",
    "</body>\n",
    "\"\"\""
   ]
  },
  {
   "cell_type": "markdown",
   "id": "bound-temperature",
   "metadata": {},
   "source": [
    "#### Un moyen de naviguer vers un element  est d'utiliser le nom du tag\n",
    "- <code>soup.p</code> ou <code>tag.p</code>\n",
    "- <code>soup.find('p')</code></br> ou <code>tag.find('p')</code></br>\n",
    "##### mais cela ne renvoie que la premiere occurence du tag</br>"
   ]
  },
  {
   "cell_type": "code",
   "execution_count": 16,
   "id": "happy-reasoning",
   "metadata": {
    "scrolled": true
   },
   "outputs": [
    {
     "name": "stdout",
     "output_type": "stream",
     "text": [
      "la tete Les Trois soeur \n",
      "Le premier pagraphe Premier paragraphe\n",
      "Le premier pagraphe dans le tag main The Dormouse's story\n"
     ]
    }
   ],
   "source": [
    "soup = BeautifulSoup(html_doc)\n",
    "print('la tete',soup.head)\n",
    "print('Le premier pagraphe',soup.p)\n",
    "print('Le premier pagraphe dans le tag main',soup.main.p)"
   ]
  },
  {
   "cell_type": "markdown",
   "id": "standing-antique",
   "metadata": {},
   "source": [
    "\n",
    "#### Pour trouver toutes les occurences \n",
    "<code>soup.find_all('a')</code>"
   ]
  },
  {
   "cell_type": "code",
   "execution_count": 40,
   "id": "increased-bachelor",
   "metadata": {},
   "outputs": [
    {
     "data": {
      "text/plain": [
       "[<a class=\"sister\" href=\"http://example.com/elsie\" id=\"link1\">Elsie</a>,\n",
       " <a class=\"sister\" href=\"http://example.com/lacie\" id=\"link2\">Lacie</a>,\n",
       " <a class=\"last\" href=\"http://example.com/tillie\" id=\"link3\">Tillie</a>]"
      ]
     },
     "execution_count": 40,
     "metadata": {},
     "output_type": "execute_result"
    }
   ],
   "source": [
    "soup.find_all('a')"
   ]
  },
  {
   "cell_type": "markdown",
   "id": "forty-tunnel",
   "metadata": {},
   "source": [
    "#### avec <code>find </code> et <code> find_all</code> on peut preciser la valeur des attributs dans un dictionnaire</br>\n",
    "<code>find('a',{'id':'link1})</code>"
   ]
  },
  {
   "cell_type": "code",
   "execution_count": 41,
   "id": "minimal-split",
   "metadata": {},
   "outputs": [
    {
     "data": {
      "text/plain": [
       "<a class=\"sister\" href=\"http://example.com/elsie\" id=\"link1\">Elsie</a>"
      ]
     },
     "execution_count": 41,
     "metadata": {},
     "output_type": "execute_result"
    }
   ],
   "source": [
    "soup.find('a',{'id':'link1'})"
   ]
  },
  {
   "cell_type": "code",
   "execution_count": 43,
   "id": "negative-turtle",
   "metadata": {
    "scrolled": true
   },
   "outputs": [
    {
     "data": {
      "text/plain": [
       "[<a class=\"sister\" href=\"http://example.com/elsie\" id=\"link1\">Elsie</a>,\n",
       " <a class=\"sister\" href=\"http://example.com/lacie\" id=\"link2\">Lacie</a>]"
      ]
     },
     "execution_count": 43,
     "metadata": {},
     "output_type": "execute_result"
    }
   ],
   "source": [
    "soup.find_all('a',{'class':'sister'})"
   ]
  },
  {
   "cell_type": "markdown",
   "id": "perceived-bowling",
   "metadata": {},
   "source": [
    " - tag.contents ou soup.contents permet d'avoir un tableau des tag contenus dans la soupe(les chaines de caractères ne peuvent rien contenir).\n",
    " - soup.contents permet d'avoir un tableau des tag contenus dans la soupe"
   ]
  },
  {
   "cell_type": "markdown",
   "id": "reported-professor",
   "metadata": {},
   "source": [
    "# Exemple\n",
    "Nous avons etudier la structure des pages du site wuxiaworld.co.</br>\n",
    "Puis on a extraire les informations nécessaire:\n",
    "    \n",
    "    - Le titre ,la description, la liste des chapitre d'un livre\n",
    "    - le contenu d'un chapitre"
   ]
  },
  {
   "cell_type": "code",
   "execution_count": 104,
   "id": "incredible-european",
   "metadata": {},
   "outputs": [],
   "source": [
    "from bs4 import BeautifulSoup,Tag\n",
    "from requests import get\n",
    "\n",
    "def GetChapterContent(baseUrl,url):\n",
    "    page = get(baseUrl + url).text\n",
    "    soup = BeautifulSoup(page)\n",
    "    \n",
    "    return soup.find('div',{'id':'chapter-entity'}).prettify()\n",
    "    \n",
    "def GetChapters(baseUrl,url,soup,limit):\n",
    "    ChapterLinks = soup.find('ul',{'class':'chapter-list clearfix'}).find_all('a')\n",
    "    result = []\n",
    "    i = 0\n",
    "    for link in ChapterLinks:\n",
    "        if i == limit:\n",
    "            break\n",
    "        print('Downloading',link.p.string,'at',baseUrl+link.get('href'))\n",
    "        result.append({\n",
    "            'titre': link.p.string,\n",
    "            'content': GetChapterContent(baseUrl,link.get('href'))\n",
    "        })\n",
    "        print('Download',link.p.string,'complete')\n",
    "        i+=1\n",
    "    return result\n",
    "\n",
    "def GetNovel(baseUrl,url,limit = -1):\n",
    "    page = get(baseUrl + url).text\n",
    "    soup = BeautifulSoup(page)\n",
    "    novel = {\n",
    "        'Titre': soup.find('div',{'class':'book-name'}).string,\n",
    "        'Description':soup.find('p',{'class':'desc'}),\n",
    "        'Cover': soup.find('div',{'class':'book-img'}).img['src'],\n",
    "        'Chapters': GetChapters(baseUrl,url,soup,limit)\n",
    "    }\n",
    "    return novel"
   ]
  },
  {
   "cell_type": "code",
   "execution_count": 134,
   "id": "elder-shepherd",
   "metadata": {},
   "outputs": [],
   "source": [
    "def SaveChapter(index,name,chapter):\n",
    "    template = \"\"\"\n",
    "    <!DOCTYPE html>\n",
    "        <html lang=\"en\">\n",
    "            <head>\n",
    "                <meta charset=\"UTF-8\">\n",
    "                <meta http-equiv=\"X-UA-Compatible\" content=\"IE=edge\">\n",
    "                <meta name=\"viewport\" content=\"width=device-width, initial-scale=1.0\">\n",
    "                <title></title>\n",
    "            </head>\n",
    "            <body>\n",
    "                <p id='content'></p>\n",
    "            </body>\n",
    "        </html>\n",
    "    \"\"\"\n",
    "    soup = BeautifulSoup(template)\n",
    "    soup.title.string = name + ' - ' + chapter['titre']\n",
    "    soup.p.append(chapter['content'])\n",
    "    return soup\n",
    "def SaveNovel(novel):\n",
    "    template = \"\"\"\n",
    "    <!DOCTYPE html>\n",
    "        <html lang=\"en\">\n",
    "            <head>\n",
    "                <meta charset=\"UTF-8\">\n",
    "                <meta http-equiv=\"X-UA-Compatible\" content=\"IE=edge\">\n",
    "                <meta name=\"viewport\" content=\"width=device-width, initial-scale=1.0\">\n",
    "                <title></title>\n",
    "            </head>\n",
    "            <body>\n",
    "                <img/>\n",
    "                <p></p>\n",
    "                <div id=\"Chapter List\"></div>\n",
    "            </body>\n",
    "        </html>\n",
    "    \"\"\"\n",
    "    soup = BeautifulSoup(template)\n",
    "    print(soup)\n",
    "    soup.title.string = novel['Titre']\n",
    "    soup.img['src'] = novel['Cover']\n",
    "    soup.p.string = novel['Description']\n",
    "    print(novel['Description'])\n",
    "    links = soup.find('div',{'id':'Chapter List'})\n",
    "    for i in range(len(novel['Chapters'])):\n",
    "        chapter = novel['Chapters'][i]\n",
    "        link = Tag(name='a',attrs={'href':i})\n",
    "        link.string = chapter['titre']\n",
    "        link.append(Tag(name = 'br'))\n",
    "        links.append(link)\n",
    "    return soup.prettify()"
   ]
  },
  {
   "cell_type": "code",
   "execution_count": 141,
   "id": "signal-alias",
   "metadata": {
    "scrolled": true
   },
   "outputs": [
    {
     "data": {
      "text/plain": [
       "<!DOCTYPE html>\n",
       "<html lang=\"en\">\n",
       "<head>\n",
       "<meta charset=\"utf-8\"/>\n",
       "<meta content=\"IE=edge\" http-equiv=\"X-UA-Compatible\"/>\n",
       "<meta content=\"width=device-width, initial-scale=1.0\" name=\"viewport\"/>\n",
       "<title>Perfect-World - PW Prologue</title>\n",
       "</head>\n",
       "<body>\n",
       "<p id=\"content\">&lt;div class=\"chapter-entity\" id=\"chapter-entity\" style=\"margin-top: 0px;\"&gt;\n",
       " Previous Chapter\n",
       " &lt;br/&gt;\n",
       " &lt;br/&gt;\n",
       " Prologue - Great Wasteland\n",
       " &lt;br/&gt;\n",
       " &lt;br/&gt;\n",
       " It was deep into the night. Everything was pitch-black and nothing could be seen, yet the mountains weren't completely silent. Roars of fierce beasts shook the mountains and rivers, causing countless trees to tremble. They began to rustle as leaves flew chaotically into the air.\n",
       " &lt;br/&gt;\n",
       " Within the endless mountains and ravines, ferocious beasts ran wildly through the great wastelands and descendants of archaic creatures roamed about. All types of terrifying sounds rose and fell within the darkness as they tried to tear this world apart.\n",
       " &lt;br/&gt;\n",
       " &lt;br/&gt;\n",
       " A gentle light could be vaguely seen from the mountain range. Inside the extreme darkness of tens of thousands of mountains, it flickered like the flame of a candle, as if it would die out with a moment's notice.\n",
       " &lt;br/&gt;\n",
       " As it gradually grew closer, an enormous and ancient tree that was on the verge of death appeared. The tree trunk was a dozen or so meters in length, and it was completely burnt black. Other than this ruined half of its trunk, there was only a single weak branch that remained; however, it was still full of vitality. The green branch and the leaves on it sparkled as if they had been carved out of green jade. Specks of gentle light began to spread out, surrounding a village.\n",
       " &lt;br/&gt;\n",
       " &lt;br/&gt;\n",
       " To be more precise, this was a tree that had been struck by lightning. After encountering powerful heavenly lightning many years ago, its enormous body and vigorous vitality were ruined. At this moment, only an eight or nine meter tall tree stump rose from the ground. It was terrifyingly thick, and the branch that extended out from it was like a green multicolored divine chain. A hazy light began to spread through the sky, enveloping and guarding the village within. The area of residence became hazy and indistinct, as if it was a fairyland. Within the great wasteland, it seemed extremely mysterious.\n",
       " &lt;br/&gt;\n",
       " &lt;br/&gt;\n",
       " All the houses inside the village were made out of stone. It was the dead of night; this place was quiet and peaceful, as if it was completely isolated from the roaring beasts of the outside darkness.\n",
       " &lt;br/&gt;\n",
       " &lt;br/&gt;\n",
       " Wu…\n",
       " &lt;br/&gt;\n",
       " &lt;br/&gt;\n",
       " Gusts of fierce wind swept past. An enormous dark cloud filled the atmosphere and covered the night sky, blocking out every last speck of stellar light. As a result, the mountain range became even darker.\n",
       " &lt;br/&gt;\n",
       " A tyrannical bird cry rang out from above, piercing through metal and splitting open rocks. Surprisingly, this sound originated from the dark cloud, and upon closer inspection, it was actually an inconceivably large bird! As it covered the sky and concealed the moon, no one knew just how long it was.\n",
       " &lt;br/&gt;\n",
       " &lt;br/&gt;\n",
       " While flying over Stone Village, it looked downwards with eyes that resembled bloody moons. A heaven-overflowing vicious aura flowed about as it stared momentarily at the old willow tree. In the end, it decided to fly towards the depths of the mountain range.\n",
       " &lt;br/&gt;\n",
       " Silence ensued for a long period of time, and soon it was past midnight. The great earth began to tremble as an indistinct figure walked over from the distance. This figure was as tall as a mountain!\n",
       " &lt;br/&gt;\n",
       " &lt;script&gt;\n",
       "  ChapterMid();\n",
       " &lt;/script&gt;\n",
       " &lt;br/&gt;\n",
       " &lt;br/&gt;\n",
       " An indescribable aura emanated, and the range of mountains and ravines became deathly silent. The tyrannical birds and fierce beasts all remained hidden, not daring to release the slightest bit of sound.\n",
       " &lt;br/&gt;\n",
       " &lt;br/&gt;\n",
       " It drew closer. This was a human shaped creature that walked upright. Its size was astonishing, comparable to a lofty mountain. There wasn't a hair on its body, and instead, dazzling golden scales covered its skin. A single vertical eye rested on an ordinary face, and as it opened and close, it was as if streak after streak of sharp lightning flew out. The creature's blood and breath surged greatly, making it seem like a demonic sovereign!\n",
       " &lt;br/&gt;\n",
       " &lt;br/&gt;\n",
       " It passed by this region and also glanced towards the old willow tree. After pausing momentarily, its movements suddenly became panicked. In the end, it quickly disappeared into the distance, leaving behind trembling mountains and rumbling sounds with its violent footsteps.\n",
       " &lt;br/&gt;\n",
       " At dawn, a ten-meter long centipede that was as thick as a bucket appeared. The dazzling silver centipede snaked its way forward. It was as if it was cast from silver, and every single section was shiny and fierce. As it slid past mountain rocks, kengqiang sounds would rise as sparks flew. However, it ultimately avoided Stone Village and did not intrude. As the black mist surged in all directions, all types of creatures were forced to retreat.\n",
       " &lt;br/&gt;\n",
       " &lt;br/&gt;\n",
       " A weak branch was releasing lustrous green multicolored lights as it gently swayed in the wind...\n",
       " &lt;br/&gt;\n",
       " &lt;br/&gt;\n",
       " Previous Chapter\n",
       "\n",
       "Next Chapter\n",
       "&lt;/div&gt;\n",
       "</p>\n",
       "</body>\n",
       "</html>"
      ]
     },
     "execution_count": 141,
     "metadata": {},
     "output_type": "execute_result"
    }
   ],
   "source": [
    "from IPython.display import display,HTML\n",
    "#novel = GetNovel('https://www.wuxiaworld.co','/Perfect-World/',limit = 1)\n",
    "SaveChapter(0,'Perfect-World',novel['Chapters'][0])"
   ]
  },
  {
   "cell_type": "code",
   "execution_count": 50,
   "id": "decimal-appearance",
   "metadata": {},
   "outputs": [
    {
     "data": {
      "text/plain": [
       "<div><a href=\"0\">PW Prologue</a></div>"
      ]
     },
     "execution_count": 50,
     "metadata": {},
     "output_type": "execute_result"
    }
   ],
   "source": [
    "links = Tag(name='div')\n",
    "link = Tag(name='a',attrs={'href':0})\n",
    "link.string = ('PW Prologue')\n",
    "links.append(link)\n",
    "links"
   ]
  },
  {
   "cell_type": "code",
   "execution_count": null,
   "id": "final-flashing",
   "metadata": {},
   "outputs": [],
   "source": []
  }
 ],
 "metadata": {
  "kernelspec": {
   "display_name": "Python 3.9.2 64-bit",
   "language": "python",
   "name": "python39264bitd792125ce62d48d3ac68ea9925bc16fc"
  },
  "language_info": {
   "codemirror_mode": {
    "name": "ipython",
    "version": 3
   },
   "file_extension": ".py",
   "mimetype": "text/x-python",
   "name": "python",
   "nbconvert_exporter": "python",
   "pygments_lexer": "ipython3",
   "version": "3.9.2"
  }
 },
 "nbformat": 4,
 "nbformat_minor": 5
}
